{
 "cells": [
  {
   "cell_type": "code",
   "execution_count": 46,
   "id": "9ac85904",
   "metadata": {},
   "outputs": [],
   "source": [
    "from pymatgen import Structure\n",
    "from pymatgen.symmetry.analyzer import SpacegroupAnalyzer\n",
    "from pymatgen.symmetry.analyzer import SpacegroupOperations\n",
    "from pymatgen.core.operations import SymmOp\n",
    "from pymatgen.ext.matproj import MPRester\n",
    "from jupyter_jsmol.pymatgen import quick_view"
   ]
  },
  {
   "cell_type": "code",
   "execution_count": 47,
   "id": "be2ba683",
   "metadata": {},
   "outputs": [],
   "source": [
    "#téléchargement des fichiers\n",
    "with MPRester(\"QhH6n7UMD6eoOToxuLav\") as m:\n",
    "    #structure for materials\n",
    "    structure = m.get_structure_by_material_id(\"mp-31451\") #.get_conventional_standard_structure()\n",
    "struct = SpacegroupAnalyzer(structure)\n",
    "struct_con = struct.get_conventional_standard_structure()\n",
    "#récupération de la structure conventionnel qui correspond à la maille du fichier CIF symmetrized\n",
    "struct_analyze = SpacegroupAnalyzer(struct_con)"
   ]
  },
  {
   "cell_type": "code",
   "execution_count": 48,
   "id": "c4842571",
   "metadata": {},
   "outputs": [
    {
     "data": {
      "application/vnd.jupyter.widget-view+json": {
       "model_id": "7798423214024d11b9dcd1163ce45128",
       "version_major": 2,
       "version_minor": 0
      },
      "text/plain": [
       "JsmolView(layout=Layout(align_self='stretch', height='400px'))"
      ]
     },
     "metadata": {},
     "output_type": "display_data"
    }
   ],
   "source": [
    "#représentation du matériau avec vecteur de maille\n",
    "view = quick_view(struct_con,supercell=[1,1,1])\n",
    "display(view)"
   ]
  },
  {
   "cell_type": "code",
   "execution_count": 80,
   "id": "19731de2",
   "metadata": {},
   "outputs": [],
   "source": [
    "sym_op = struct_analyze.get_space_group_operations() #recupération des opération de symmétrie possible\n",
    "sites = struct_con.sites #récupération de tous les sites d'atome dans la maille cristalline"
   ]
  },
  {
   "cell_type": "markdown",
   "id": "0d4653e5",
   "metadata": {},
   "source": [
    "# 1er élément de symétrie :\n",
    "\n",
    "Le premier élément de symétrie est une rotation du second ordre $C_{2}$ dont l'opérateur de symétrie est défini par la matrice : $\\begin{pmatrix}-1&0&0\\\\ \n",
    "0&-1&0\\\\ \n",
    "0&0&1\\\\ \n",
    "\\end{pmatrix}$.\n",
    "\n",
    "Celle-ci va être appliquée sur l'atome de cobalt se trouvant selon les coordonnées réduites en $(0.25,0.25,0.75)$."
   ]
  },
  {
   "cell_type": "code",
   "execution_count": 91,
   "id": "26b00730",
   "metadata": {},
   "outputs": [
    {
     "name": "stdout",
     "output_type": "stream",
     "text": [
      "Coordonnées réduites avant opération : [0.25 0.25 0.75]\n",
      "Coordonnées réduites après opération :[-0.25 -0.25  0.75]\n"
     ]
    }
   ],
   "source": [
    "#1er élément de symmétrie\n",
    "operation1 = sym_op[2] #récupération de l'opération de symétrie choisie\n",
    "atom1 = sites[4] # récupération de l'atome choisi\n",
    "atom1_frac_coords = atom1.frac_coords\n",
    "\n",
    "print(\"Coordonnées réduites avant opération : \"+str(atom1_frac_coords))\n",
    "atom1_after = operation1.operate(atom1_frac_coords) #application de l'opérateur de symétrie\n",
    "print(\"Coordonnées réduites après opération :\"+str(atom1_after))"
   ]
  },
  {
   "cell_type": "code",
   "execution_count": 51,
   "id": "48e0db95",
   "metadata": {},
   "outputs": [
    {
     "data": {
      "application/vnd.jupyter.widget-view+json": {
       "model_id": "cf98e7274ba1417cb4640966a03228f1",
       "version_major": 2,
       "version_minor": 0
      },
      "text/plain": [
       "JsmolView(layout=Layout(align_self='stretch', height='400px'))"
      ]
     },
     "metadata": {},
     "output_type": "display_data"
    }
   ],
   "source": [
    "#représentation graphique de l'opération\n",
    "#nécessaire de run les cellule contenant les représentation en 3D des opérations pour les visualiser\n",
    "#et réessayer plusieurs fois en ayant quitté le notebook si la flèche représentant l'opération n'apparait pas\n",
    "view = quick_view(struct_con,supercell=[1,1,1])\n",
    "display(view)\n",
    "view.script('draw symop 3 {atomno = 2}; select atomno=2; label on; color red')"
   ]
  },
  {
   "cell_type": "markdown",
   "id": "e201fd9c",
   "metadata": {},
   "source": [
    "# 2ème élément de symétrie :\n",
    "\n",
    "Le deuxième élément de symétrie est une rotation hélicoïdale (screw) $2_{1}$ dont l'opérateur est défini par la matrice : $\\begin{pmatrix}-1&0&0\\\\ \n",
    "0&1&0\\\\ \n",
    "0&0&-1\\\\ \n",
    "\\end{pmatrix}$ \n",
    "\n",
    "et la translation $(0,0.5,0.5)$\n",
    "\n",
    "Celle-ci va être appliquée sur l'atome de Zirconium se trouvant selon les coordonnées réduites en $(0.0,0.5,0.5)$."
   ]
  },
  {
   "cell_type": "code",
   "execution_count": 92,
   "id": "2932d0ca",
   "metadata": {},
   "outputs": [
    {
     "name": "stdout",
     "output_type": "stream",
     "text": [
      "Coordonnées réduites avant opération : [0.  0.5 0.5]\n",
      "Coordonnées réduites après opération :[0. 1. 0.]\n"
     ]
    }
   ],
   "source": [
    "#2eme élément de symétrie\n",
    "operation2 = sym_op[78]\n",
    "atom2 = sites[1]\n",
    "atom2_frac_coords = atom2.frac_coords\n",
    "print(\"Coordonnées réduites avant opération : \"+str(atom2_frac_coords))\n",
    "atom2_after = operation2.operate(atom2_frac_coords) #opération de symétrie\n",
    "print(\"Coordonnées réduites après opération :\"+str(atom2_after))"
   ]
  },
  {
   "cell_type": "code",
   "execution_count": 90,
   "id": "264649e3",
   "metadata": {},
   "outputs": [
    {
     "data": {
      "application/vnd.jupyter.widget-view+json": {
       "model_id": "2bac00811aa84dd59a9aa8603ed416f6",
       "version_major": 2,
       "version_minor": 0
      },
      "text/plain": [
       "JsmolView(layout=Layout(align_self='stretch', height='400px'))"
      ]
     },
     "metadata": {},
     "output_type": "display_data"
    }
   ],
   "source": [
    "#représentation graphique de l'opération\n",
    "view = quick_view(struct_con,supercell=[1,1,1])\n",
    "display(view)\n",
    "view.script('draw symop 79 {atomno = 38}; select atomno=38; label on; color red')"
   ]
  },
  {
   "cell_type": "markdown",
   "id": "c704bad0",
   "metadata": {},
   "source": [
    "# 3ème élément de symétrie :\n",
    "\n",
    "Le troisième élément de symétrie est un plan miroir $m$ définie par la matrice : $\\begin{pmatrix}1&0&0\\\\ \n",
    "0&0&-1\\\\ \n",
    "0&-1&0\\\\ \n",
    "\\end{pmatrix}$\n",
    "\n",
    "Celle-ci va être appliquée sur l'atome de Bismuth se trouvant selon les coordonnées réduites en (0.0,0.0,0.5)."
   ]
  },
  {
   "cell_type": "code",
   "execution_count": 93,
   "id": "1329d6e6",
   "metadata": {},
   "outputs": [
    {
     "name": "stdout",
     "output_type": "stream",
     "text": [
      "Coordonnées réduites avant opération : [0.  0.  0.5]\n",
      "Coordonnées réduites après opération :[ 0.  -0.5  0. ]\n"
     ]
    }
   ],
   "source": [
    "#3ème élément de symétrie\n",
    "operation3 = sym_op[19]\n",
    "atom3 = sites[10]\n",
    "atom3_frac_coords = atom3.frac_coords\n",
    "print(\"Coordonnées réduites avant opération : \"+str(atom3_frac_coords))\n",
    "atom3_after = operation3.operate(atom3_frac_coords) #opération de symétrie\n",
    "print(\"Coordonnées réduites après opération :\"+str(atom3_after))"
   ]
  },
  {
   "cell_type": "code",
   "execution_count": 79,
   "id": "22b93c37",
   "metadata": {},
   "outputs": [
    {
     "data": {
      "application/vnd.jupyter.widget-view+json": {
       "model_id": "898b448766e94d00bd85473c509afa06",
       "version_major": 2,
       "version_minor": 0
      },
      "text/plain": [
       "JsmolView(layout=Layout(align_self='stretch', height='400px'))"
      ]
     },
     "metadata": {},
     "output_type": "display_data"
    }
   ],
   "source": [
    "#représentation graphique de l'opération\n",
    "view = quick_view(struct_con,supercell=[1,1,1])\n",
    "display(view)\n",
    "view.script('draw symop 20 {atomno = 3}; select atomno=3; label on; color red')"
   ]
  },
  {
   "cell_type": "code",
   "execution_count": null,
   "id": "d1b6b1cb",
   "metadata": {},
   "outputs": [],
   "source": []
  }
 ],
 "metadata": {
  "kernelspec": {
   "display_name": "Python 3",
   "language": "python",
   "name": "python3"
  },
  "language_info": {
   "codemirror_mode": {
    "name": "ipython",
    "version": 3
   },
   "file_extension": ".py",
   "mimetype": "text/x-python",
   "name": "python",
   "nbconvert_exporter": "python",
   "pygments_lexer": "ipython3",
   "version": "3.6.8"
  }
 },
 "nbformat": 4,
 "nbformat_minor": 5
}
