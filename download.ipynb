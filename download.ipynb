{
 "cells": [
  {
   "cell_type": "code",
   "execution_count": 1,
   "id": "5222e448",
   "metadata": {},
   "outputs": [],
   "source": [
    "from pymatgen import Structure\n",
    "from pymatgen.symmetry.analyzer import SpacegroupAnalyzer\n",
    "from jupyter_jsmol.pymatgen import quick_view\n",
    "from pymatgen.ext.matproj import MPRester"
   ]
  },
  {
   "cell_type": "code",
   "execution_count": 9,
   "id": "ff4e2ece",
   "metadata": {},
   "outputs": [],
   "source": [
    "with MPRester(\"QhH6n7UMD6eoOToxuLav\") as m:\n",
    "    #structure for materials\n",
    "    structure = m.get_structure_by_material_id(\"mp-31451\")\n",
    "symmetrized_struct = SpacegroupAnalyzer(structure).get_symmetrized_structure() #symmetrized"
   ]
  },
  {
   "cell_type": "code",
   "execution_count": null,
   "id": "f8176b6d",
   "metadata": {},
   "outputs": [],
   "source": []
  }
 ],
 "metadata": {
  "kernelspec": {
   "display_name": "Python 3",
   "language": "python",
   "name": "python3"
  },
  "language_info": {
   "codemirror_mode": {
    "name": "ipython",
    "version": 3
   },
   "file_extension": ".py",
   "mimetype": "text/x-python",
   "name": "python",
   "nbconvert_exporter": "python",
   "pygments_lexer": "ipython3",
   "version": "3.6.8"
  }
 },
 "nbformat": 4,
 "nbformat_minor": 5
}
