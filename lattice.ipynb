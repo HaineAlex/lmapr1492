{
 "cells": [
  {
   "cell_type": "code",
   "execution_count": 33,
   "id": "a632f01c",
   "metadata": {},
   "outputs": [],
   "source": [
    "from pymatgen import Structure\n",
    "from pymatgen.symmetry.analyzer import SpacegroupAnalyzer\n",
    "#from jupyter_jsmol.pymatgen import quick_view\n",
    "from pymatgen.ext.matproj import MPRester"
   ]
  },
  {
   "cell_type": "code",
   "execution_count": 34,
   "id": "2b73101a",
   "metadata": {},
   "outputs": [],
   "source": [
    "#téléchargement des fichiers\n",
    "with MPRester(\"QhH6n7UMD6eoOToxuLav\") as m:\n",
    "    #structure for materials\n",
    "    structure = m.get_structure_by_material_id(\"mp-31451\")\n",
    "struct = SpacegroupAnalyzer(structure)\n",
    "struct_con = struct.get_conventional_standard_structure()\n",
    "#récupération de la structure conventionnel qui correspond à la maille du fichier CIF symmetrized"
   ]
  },
  {
   "cell_type": "code",
   "execution_count": 35,
   "id": "a7b81613",
   "metadata": {},
   "outputs": [
    {
     "name": "stdout",
     "output_type": "stream",
     "text": [
      "a = [6.23686800e+00 0.00000000e+00 3.81898022e-16]\n",
      "b = [1.00296487e-15 6.23686800e+00 3.81898022e-16]\n",
      "c = [0.       0.       6.236868]\n",
      "h = [ 1.00742637e+00 -1.62006517e-16  0.00000000e+00]\n",
      "k = [0.         1.00742637 0.        ]\n",
      "l = [-6.16870741e-17 -6.16870741e-17  1.00742637e+00]\n",
      "Cependant, notons que les valeurs exposants -16 et -17 peuvent être approximée par 0.\n"
     ]
    }
   ],
   "source": [
    "#Déterminations des vecteurs du réseau direct\n",
    "abc = struct_con.lattice.matrix\n",
    "a = abc[0]\n",
    "b = abc[1]\n",
    "c = abc[2]\n",
    "\n",
    "print(\"a = \"+str(a))\n",
    "print(\"b = \"+str(b))\n",
    "print(\"c = \"+str(c))\n",
    "\n",
    "#Détermination des vecteurs du réseau réciproque\n",
    "\n",
    "hkl = struct_con.lattice.reciprocal_lattice.matrix\n",
    "h = hkl[0]\n",
    "k = hkl[1]\n",
    "l = hkl[2]\n",
    "print(\"h = \"+str(h))\n",
    "print(\"k = \"+str(k))\n",
    "print(\"l = \"+str(l))\n",
    "\n",
    "print(\"Cependant, notons que les valeurs exposants -16 et -17 peuvent être approximée par 0.\")\n"
   ]
  },
  {
   "cell_type": "code",
   "execution_count": 36,
   "id": "f3bdc673",
   "metadata": {},
   "outputs": [
    {
     "name": "stdout",
     "output_type": "stream",
     "text": [
      "F => La maille est CFC.\n"
     ]
    }
   ],
   "source": [
    "#Determination de la maille.\n",
    "mesh = struct.get_space_group_symbol()\n",
    "print(str(mesh[0])+\" => La maille est CFC.\")"
   ]
  },
  {
   "cell_type": "code",
   "execution_count": 37,
   "id": "61e5d316",
   "metadata": {},
   "outputs": [
    {
     "name": "stdout",
     "output_type": "stream",
     "text": [
      "cubic => Le système cristallin est cubique.\n"
     ]
    }
   ],
   "source": [
    "#Détermination du système cristallin.\n",
    "cristal_systm = struct.get_crystal_system()\n",
    "print(str(cristal_systm)+\" => Le système cristallin est cubique.\")"
   ]
  },
  {
   "cell_type": "code",
   "execution_count": 32,
   "id": "ac74e713",
   "metadata": {},
   "outputs": [
    {
     "name": "stdout",
     "output_type": "stream",
     "text": [
      "Le groupe ponctuel est -43m.\n"
     ]
    }
   ],
   "source": [
    "#Détermination du groupe ponctuel\n",
    "point_group = struct.get_point_group_symbol()\n",
    "print(\"Le groupe ponctuel est \"+str(point_group)+\".\")"
   ]
  }
 ],
 "metadata": {
  "kernelspec": {
   "display_name": "Python 3",
   "language": "python",
   "name": "python3"
  },
  "language_info": {
   "codemirror_mode": {
    "name": "ipython",
    "version": 3
   },
   "file_extension": ".py",
   "mimetype": "text/x-python",
   "name": "python",
   "nbconvert_exporter": "python",
   "pygments_lexer": "ipython3",
   "version": "3.6.8"
  }
 },
 "nbformat": 4,
 "nbformat_minor": 5
}
